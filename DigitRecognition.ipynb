{
  "cells": [
    {
      "cell_type": "markdown",
      "metadata": {
        "colab_type": "text",
        "id": "view-in-github"
      },
      "source": [
        "<a href=\"https://colab.research.google.com/github/daksh-pote/MAL/blob/main/DigitRecognition.ipynb\" target=\"_parent\"><img src=\"https://colab.research.google.com/assets/colab-badge.svg\" alt=\"Open In Colab\"/></a>"
      ]
    },
    {
      "cell_type": "markdown",
      "metadata": {
        "id": "BMBWLq5M7w0P"
      },
      "source": [
        "DIGIT RECOGNITION PROJECT\n"
      ]
    },
    {
      "cell_type": "code",
      "execution_count": 2,
      "metadata": {
        "id": "3LOjWAeF7179"
      },
      "outputs": [],
      "source": [
        "# importing libraries\n",
        "# git changes"
      ]
    },
    {
      "cell_type": "code",
      "execution_count": 3,
      "metadata": {
        "id": "JEtBkzqp76RS"
      },
      "outputs": [],
      "source": [
        "import pandas as pd\n",
        "import numpy as np"
      ]
    },
    {
      "cell_type": "code",
      "execution_count": 4,
      "metadata": {
        "id": "IMOkxdyM7-T8"
      },
      "outputs": [],
      "source": [
        "from keras import datasets"
      ]
    },
    {
      "cell_type": "code",
      "execution_count": 11,
      "metadata": {
        "id": "ZA5uFnco8K4W"
      },
      "outputs": [],
      "source": [
        "(x_train, y_train),(x_test, y_test) = datasets.mnist.load_data()"
      ]
    },
    {
      "cell_type": "code",
      "execution_count": 12,
      "metadata": {
        "colab": {
          "base_uri": "https://localhost:8080/"
        },
        "id": "-zom19Nn8OAO",
        "outputId": "3eea53fa-7f2a-4dc4-ddce-a12699a16ae6"
      },
      "outputs": [
        {
          "data": {
            "text/plain": [
              "array([5, 0, 4, ..., 5, 6, 8], dtype=uint8)"
            ]
          },
          "execution_count": 12,
          "metadata": {},
          "output_type": "execute_result"
        }
      ],
      "source": [
        "y_train"
      ]
    },
    {
      "cell_type": "code",
      "execution_count": 13,
      "metadata": {
        "colab": {
          "base_uri": "https://localhost:8080/"
        },
        "id": "DghLw7r08iQQ",
        "outputId": "0bff64ba-9005-4fe6-d3ee-c786b1ccc7c0"
      },
      "outputs": [
        {
          "data": {
            "text/plain": [
              "array([[[0, 0, 0, ..., 0, 0, 0],\n",
              "        [0, 0, 0, ..., 0, 0, 0],\n",
              "        [0, 0, 0, ..., 0, 0, 0],\n",
              "        ...,\n",
              "        [0, 0, 0, ..., 0, 0, 0],\n",
              "        [0, 0, 0, ..., 0, 0, 0],\n",
              "        [0, 0, 0, ..., 0, 0, 0]],\n",
              "\n",
              "       [[0, 0, 0, ..., 0, 0, 0],\n",
              "        [0, 0, 0, ..., 0, 0, 0],\n",
              "        [0, 0, 0, ..., 0, 0, 0],\n",
              "        ...,\n",
              "        [0, 0, 0, ..., 0, 0, 0],\n",
              "        [0, 0, 0, ..., 0, 0, 0],\n",
              "        [0, 0, 0, ..., 0, 0, 0]],\n",
              "\n",
              "       [[0, 0, 0, ..., 0, 0, 0],\n",
              "        [0, 0, 0, ..., 0, 0, 0],\n",
              "        [0, 0, 0, ..., 0, 0, 0],\n",
              "        ...,\n",
              "        [0, 0, 0, ..., 0, 0, 0],\n",
              "        [0, 0, 0, ..., 0, 0, 0],\n",
              "        [0, 0, 0, ..., 0, 0, 0]],\n",
              "\n",
              "       ...,\n",
              "\n",
              "       [[0, 0, 0, ..., 0, 0, 0],\n",
              "        [0, 0, 0, ..., 0, 0, 0],\n",
              "        [0, 0, 0, ..., 0, 0, 0],\n",
              "        ...,\n",
              "        [0, 0, 0, ..., 0, 0, 0],\n",
              "        [0, 0, 0, ..., 0, 0, 0],\n",
              "        [0, 0, 0, ..., 0, 0, 0]],\n",
              "\n",
              "       [[0, 0, 0, ..., 0, 0, 0],\n",
              "        [0, 0, 0, ..., 0, 0, 0],\n",
              "        [0, 0, 0, ..., 0, 0, 0],\n",
              "        ...,\n",
              "        [0, 0, 0, ..., 0, 0, 0],\n",
              "        [0, 0, 0, ..., 0, 0, 0],\n",
              "        [0, 0, 0, ..., 0, 0, 0]],\n",
              "\n",
              "       [[0, 0, 0, ..., 0, 0, 0],\n",
              "        [0, 0, 0, ..., 0, 0, 0],\n",
              "        [0, 0, 0, ..., 0, 0, 0],\n",
              "        ...,\n",
              "        [0, 0, 0, ..., 0, 0, 0],\n",
              "        [0, 0, 0, ..., 0, 0, 0],\n",
              "        [0, 0, 0, ..., 0, 0, 0]]], dtype=uint8)"
            ]
          },
          "execution_count": 13,
          "metadata": {},
          "output_type": "execute_result"
        }
      ],
      "source": [
        "x_train"
      ]
    },
    {
      "cell_type": "code",
      "execution_count": 14,
      "metadata": {
        "colab": {
          "base_uri": "https://localhost:8080/"
        },
        "id": "3ysnyfg08zph",
        "outputId": "c81f052b-dc07-43ac-fb21-cc015ddc9895"
      },
      "outputs": [
        {
          "data": {
            "text/plain": [
              "(60000, 28, 28)"
            ]
          },
          "execution_count": 14,
          "metadata": {},
          "output_type": "execute_result"
        }
      ],
      "source": [
        "x_train.shape"
      ]
    },
    {
      "cell_type": "code",
      "execution_count": 15,
      "metadata": {
        "colab": {
          "base_uri": "https://localhost:8080/"
        },
        "id": "63A06ryr9E7w",
        "outputId": "d9151ed5-6517-4661-ff52-4e19f975241b"
      },
      "outputs": [
        {
          "data": {
            "text/plain": [
              "(10000, 28, 28)"
            ]
          },
          "execution_count": 15,
          "metadata": {},
          "output_type": "execute_result"
        }
      ],
      "source": [
        "x_test.shape"
      ]
    },
    {
      "cell_type": "markdown",
      "metadata": {
        "id": "fpjhW5GCGzjd"
      },
      "source": [
        "RESHAPING DATA / FEATURE SCALING"
      ]
    },
    {
      "cell_type": "code",
      "execution_count": 17,
      "metadata": {
        "id": "0goEBu0R9QB3"
      },
      "outputs": [],
      "source": [
        "width, height = 28, 28\n",
        "input_shape = (width, height, 1)"
      ]
    },
    {
      "cell_type": "code",
      "execution_count": 18,
      "metadata": {
        "colab": {
          "base_uri": "https://localhost:8080/"
        },
        "id": "CcESjrld9bWI",
        "outputId": "e42b5f43-a2a3-4666-84fd-785d91657ca6"
      },
      "outputs": [
        {
          "data": {
            "text/plain": [
              "(28, 28, 1)"
            ]
          },
          "execution_count": 18,
          "metadata": {},
          "output_type": "execute_result"
        }
      ],
      "source": [
        "input_shape"
      ]
    },
    {
      "cell_type": "code",
      "execution_count": 19,
      "metadata": {
        "id": "5v0MOXA19tkl"
      },
      "outputs": [],
      "source": [
        "x_train = x_train.reshape(x_train.shape[0], width, height, 1)\n",
        "x_test = x_test.reshape(x_test.shape[0], width, height, 1)"
      ]
    },
    {
      "cell_type": "code",
      "execution_count": 20,
      "metadata": {
        "colab": {
          "base_uri": "https://localhost:8080/"
        },
        "id": "268ENT8T94FH",
        "outputId": "62d83ab8-258e-445c-c828-175def99f359"
      },
      "outputs": [
        {
          "data": {
            "text/plain": [
              "(60000, 28, 28, 1)"
            ]
          },
          "execution_count": 20,
          "metadata": {},
          "output_type": "execute_result"
        }
      ],
      "source": [
        "x_train.shape"
      ]
    },
    {
      "cell_type": "code",
      "execution_count": 21,
      "metadata": {
        "colab": {
          "base_uri": "https://localhost:8080/"
        },
        "id": "czGvrrOz-Ctf",
        "outputId": "b3a36f23-6d1c-4393-f95d-7ee8383d4659"
      },
      "outputs": [
        {
          "data": {
            "text/plain": [
              "(60000,)"
            ]
          },
          "execution_count": 21,
          "metadata": {},
          "output_type": "execute_result"
        }
      ],
      "source": [
        "y_train.shape"
      ]
    },
    {
      "cell_type": "code",
      "execution_count": 22,
      "metadata": {
        "id": "lZDoOZEn-OQW"
      },
      "outputs": [],
      "source": [
        "from sklearn.model_selection import train_test_split\n",
        "x_train, x_val, y_train, y_val = train_test_split(x_train, y_train, test_size=0.1)"
      ]
    },
    {
      "cell_type": "code",
      "execution_count": 23,
      "metadata": {
        "colab": {
          "base_uri": "https://localhost:8080/"
        },
        "id": "-mMRQKjt-zIz",
        "outputId": "e2f7e92e-6165-4249-ff02-4bf68a7081ce"
      },
      "outputs": [
        {
          "data": {
            "text/plain": [
              "6000"
            ]
          },
          "execution_count": 23,
          "metadata": {},
          "output_type": "execute_result"
        }
      ],
      "source": [
        "len(x_val)"
      ]
    },
    {
      "cell_type": "markdown",
      "metadata": {
        "id": "wU3wI6bVGsm2"
      },
      "source": [
        "NORMALIZING DATA"
      ]
    },
    {
      "cell_type": "code",
      "execution_count": 24,
      "metadata": {
        "id": "sAU1qU4X-1XY"
      },
      "outputs": [],
      "source": [
        "x_train = (x_train - x_train.mean()) / x_train.std()\n",
        "x_val = (x_val - x_val.mean()) / x_val.std()\n",
        "x_test = (x_test - x_test.mean()) / x_test.std()"
      ]
    },
    {
      "cell_type": "code",
      "execution_count": 25,
      "metadata": {
        "colab": {
          "base_uri": "https://localhost:8080/"
        },
        "id": "dOuk89nQ_Rk1",
        "outputId": "359c374b-4fb2-4977-b3f3-4727981dccbd"
      },
      "outputs": [
        {
          "data": {
            "text/plain": [
              "array([[[[-0.42406214],\n",
              "         [-0.42406214],\n",
              "         [-0.42406214],\n",
              "         ...,\n",
              "         [-0.42406214],\n",
              "         [-0.42406214],\n",
              "         [-0.42406214]],\n",
              "\n",
              "        [[-0.42406214],\n",
              "         [-0.42406214],\n",
              "         [-0.42406214],\n",
              "         ...,\n",
              "         [-0.42406214],\n",
              "         [-0.42406214],\n",
              "         [-0.42406214]],\n",
              "\n",
              "        [[-0.42406214],\n",
              "         [-0.42406214],\n",
              "         [-0.42406214],\n",
              "         ...,\n",
              "         [-0.42406214],\n",
              "         [-0.42406214],\n",
              "         [-0.42406214]],\n",
              "\n",
              "        ...,\n",
              "\n",
              "        [[-0.42406214],\n",
              "         [-0.42406214],\n",
              "         [-0.42406214],\n",
              "         ...,\n",
              "         [-0.42406214],\n",
              "         [-0.42406214],\n",
              "         [-0.42406214]],\n",
              "\n",
              "        [[-0.42406214],\n",
              "         [-0.42406214],\n",
              "         [-0.42406214],\n",
              "         ...,\n",
              "         [-0.42406214],\n",
              "         [-0.42406214],\n",
              "         [-0.42406214]],\n",
              "\n",
              "        [[-0.42406214],\n",
              "         [-0.42406214],\n",
              "         [-0.42406214],\n",
              "         ...,\n",
              "         [-0.42406214],\n",
              "         [-0.42406214],\n",
              "         [-0.42406214]]],\n",
              "\n",
              "\n",
              "       [[[-0.42406214],\n",
              "         [-0.42406214],\n",
              "         [-0.42406214],\n",
              "         ...,\n",
              "         [-0.42406214],\n",
              "         [-0.42406214],\n",
              "         [-0.42406214]],\n",
              "\n",
              "        [[-0.42406214],\n",
              "         [-0.42406214],\n",
              "         [-0.42406214],\n",
              "         ...,\n",
              "         [-0.42406214],\n",
              "         [-0.42406214],\n",
              "         [-0.42406214]],\n",
              "\n",
              "        [[-0.42406214],\n",
              "         [-0.42406214],\n",
              "         [-0.42406214],\n",
              "         ...,\n",
              "         [-0.42406214],\n",
              "         [-0.42406214],\n",
              "         [-0.42406214]],\n",
              "\n",
              "        ...,\n",
              "\n",
              "        [[-0.42406214],\n",
              "         [-0.42406214],\n",
              "         [-0.42406214],\n",
              "         ...,\n",
              "         [-0.42406214],\n",
              "         [-0.42406214],\n",
              "         [-0.42406214]],\n",
              "\n",
              "        [[-0.42406214],\n",
              "         [-0.42406214],\n",
              "         [-0.42406214],\n",
              "         ...,\n",
              "         [-0.42406214],\n",
              "         [-0.42406214],\n",
              "         [-0.42406214]],\n",
              "\n",
              "        [[-0.42406214],\n",
              "         [-0.42406214],\n",
              "         [-0.42406214],\n",
              "         ...,\n",
              "         [-0.42406214],\n",
              "         [-0.42406214],\n",
              "         [-0.42406214]]],\n",
              "\n",
              "\n",
              "       [[[-0.42406214],\n",
              "         [-0.42406214],\n",
              "         [-0.42406214],\n",
              "         ...,\n",
              "         [-0.42406214],\n",
              "         [-0.42406214],\n",
              "         [-0.42406214]],\n",
              "\n",
              "        [[-0.42406214],\n",
              "         [-0.42406214],\n",
              "         [-0.42406214],\n",
              "         ...,\n",
              "         [-0.42406214],\n",
              "         [-0.42406214],\n",
              "         [-0.42406214]],\n",
              "\n",
              "        [[-0.42406214],\n",
              "         [-0.42406214],\n",
              "         [-0.42406214],\n",
              "         ...,\n",
              "         [-0.42406214],\n",
              "         [-0.42406214],\n",
              "         [-0.42406214]],\n",
              "\n",
              "        ...,\n",
              "\n",
              "        [[-0.42406214],\n",
              "         [-0.42406214],\n",
              "         [-0.42406214],\n",
              "         ...,\n",
              "         [-0.42406214],\n",
              "         [-0.42406214],\n",
              "         [-0.42406214]],\n",
              "\n",
              "        [[-0.42406214],\n",
              "         [-0.42406214],\n",
              "         [-0.42406214],\n",
              "         ...,\n",
              "         [-0.42406214],\n",
              "         [-0.42406214],\n",
              "         [-0.42406214]],\n",
              "\n",
              "        [[-0.42406214],\n",
              "         [-0.42406214],\n",
              "         [-0.42406214],\n",
              "         ...,\n",
              "         [-0.42406214],\n",
              "         [-0.42406214],\n",
              "         [-0.42406214]]],\n",
              "\n",
              "\n",
              "       ...,\n",
              "\n",
              "\n",
              "       [[[-0.42406214],\n",
              "         [-0.42406214],\n",
              "         [-0.42406214],\n",
              "         ...,\n",
              "         [-0.42406214],\n",
              "         [-0.42406214],\n",
              "         [-0.42406214]],\n",
              "\n",
              "        [[-0.42406214],\n",
              "         [-0.42406214],\n",
              "         [-0.42406214],\n",
              "         ...,\n",
              "         [-0.42406214],\n",
              "         [-0.42406214],\n",
              "         [-0.42406214]],\n",
              "\n",
              "        [[-0.42406214],\n",
              "         [-0.42406214],\n",
              "         [-0.42406214],\n",
              "         ...,\n",
              "         [-0.42406214],\n",
              "         [-0.42406214],\n",
              "         [-0.42406214]],\n",
              "\n",
              "        ...,\n",
              "\n",
              "        [[-0.42406214],\n",
              "         [-0.42406214],\n",
              "         [-0.42406214],\n",
              "         ...,\n",
              "         [-0.42406214],\n",
              "         [-0.42406214],\n",
              "         [-0.42406214]],\n",
              "\n",
              "        [[-0.42406214],\n",
              "         [-0.42406214],\n",
              "         [-0.42406214],\n",
              "         ...,\n",
              "         [-0.42406214],\n",
              "         [-0.42406214],\n",
              "         [-0.42406214]],\n",
              "\n",
              "        [[-0.42406214],\n",
              "         [-0.42406214],\n",
              "         [-0.42406214],\n",
              "         ...,\n",
              "         [-0.42406214],\n",
              "         [-0.42406214],\n",
              "         [-0.42406214]]],\n",
              "\n",
              "\n",
              "       [[[-0.42406214],\n",
              "         [-0.42406214],\n",
              "         [-0.42406214],\n",
              "         ...,\n",
              "         [-0.42406214],\n",
              "         [-0.42406214],\n",
              "         [-0.42406214]],\n",
              "\n",
              "        [[-0.42406214],\n",
              "         [-0.42406214],\n",
              "         [-0.42406214],\n",
              "         ...,\n",
              "         [-0.42406214],\n",
              "         [-0.42406214],\n",
              "         [-0.42406214]],\n",
              "\n",
              "        [[-0.42406214],\n",
              "         [-0.42406214],\n",
              "         [-0.42406214],\n",
              "         ...,\n",
              "         [-0.42406214],\n",
              "         [-0.42406214],\n",
              "         [-0.42406214]],\n",
              "\n",
              "        ...,\n",
              "\n",
              "        [[-0.42406214],\n",
              "         [-0.42406214],\n",
              "         [-0.42406214],\n",
              "         ...,\n",
              "         [-0.42406214],\n",
              "         [-0.42406214],\n",
              "         [-0.42406214]],\n",
              "\n",
              "        [[-0.42406214],\n",
              "         [-0.42406214],\n",
              "         [-0.42406214],\n",
              "         ...,\n",
              "         [-0.42406214],\n",
              "         [-0.42406214],\n",
              "         [-0.42406214]],\n",
              "\n",
              "        [[-0.42406214],\n",
              "         [-0.42406214],\n",
              "         [-0.42406214],\n",
              "         ...,\n",
              "         [-0.42406214],\n",
              "         [-0.42406214],\n",
              "         [-0.42406214]]],\n",
              "\n",
              "\n",
              "       [[[-0.42406214],\n",
              "         [-0.42406214],\n",
              "         [-0.42406214],\n",
              "         ...,\n",
              "         [-0.42406214],\n",
              "         [-0.42406214],\n",
              "         [-0.42406214]],\n",
              "\n",
              "        [[-0.42406214],\n",
              "         [-0.42406214],\n",
              "         [-0.42406214],\n",
              "         ...,\n",
              "         [-0.42406214],\n",
              "         [-0.42406214],\n",
              "         [-0.42406214]],\n",
              "\n",
              "        [[-0.42406214],\n",
              "         [-0.42406214],\n",
              "         [-0.42406214],\n",
              "         ...,\n",
              "         [-0.42406214],\n",
              "         [-0.42406214],\n",
              "         [-0.42406214]],\n",
              "\n",
              "        ...,\n",
              "\n",
              "        [[-0.42406214],\n",
              "         [-0.42406214],\n",
              "         [-0.42406214],\n",
              "         ...,\n",
              "         [-0.42406214],\n",
              "         [-0.42406214],\n",
              "         [-0.42406214]],\n",
              "\n",
              "        [[-0.42406214],\n",
              "         [-0.42406214],\n",
              "         [-0.42406214],\n",
              "         ...,\n",
              "         [-0.42406214],\n",
              "         [-0.42406214],\n",
              "         [-0.42406214]],\n",
              "\n",
              "        [[-0.42406214],\n",
              "         [-0.42406214],\n",
              "         [-0.42406214],\n",
              "         ...,\n",
              "         [-0.42406214],\n",
              "         [-0.42406214],\n",
              "         [-0.42406214]]]])"
            ]
          },
          "execution_count": 25,
          "metadata": {},
          "output_type": "execute_result"
        }
      ],
      "source": [
        "x_train"
      ]
    },
    {
      "cell_type": "code",
      "execution_count": 26,
      "metadata": {
        "colab": {
          "base_uri": "https://localhost:8080/"
        },
        "id": "End_kx6s_tF8",
        "outputId": "7221ab2e-52b4-49c6-e24f-4dcfb975c2a4"
      },
      "outputs": [
        {
          "data": {
            "text/plain": [
              "array([9, 4, 0, ..., 6, 2, 1], dtype=uint8)"
            ]
          },
          "execution_count": 26,
          "metadata": {},
          "output_type": "execute_result"
        }
      ],
      "source": [
        "y_train"
      ]
    },
    {
      "cell_type": "code",
      "execution_count": 27,
      "metadata": {
        "id": "VuH1CuWo_yLV"
      },
      "outputs": [],
      "source": [
        "from tensorflow import keras"
      ]
    },
    {
      "cell_type": "code",
      "execution_count": 28,
      "metadata": {
        "colab": {
          "base_uri": "https://localhost:8080/"
        },
        "id": "i-HFBRhQ_40F",
        "outputId": "1cb0fd33-4e70-4197-9dfc-cb43b8e12df8"
      },
      "outputs": [
        {
          "data": {
            "text/plain": [
              "array([9, 4, 0, ..., 6, 2, 1], dtype=uint8)"
            ]
          },
          "execution_count": 28,
          "metadata": {},
          "output_type": "execute_result"
        }
      ],
      "source": [
        "y_train"
      ]
    },
    {
      "cell_type": "code",
      "execution_count": 29,
      "metadata": {
        "id": "bs6cNwqu_UQs"
      },
      "outputs": [],
      "source": [
        "num_labels = 10\n",
        "\n",
        "y_train = keras.utils.to_categorical(y_train)\n",
        "y_val = keras.utils.to_categorical(y_val)\n",
        "y_test = keras.utils.to_categorical(y_test)"
      ]
    },
    {
      "cell_type": "code",
      "execution_count": 30,
      "metadata": {
        "colab": {
          "base_uri": "https://localhost:8080/"
        },
        "id": "Ai2TPU4uAGAB",
        "outputId": "fdedac6c-22ea-4a4b-85d9-318c30d31cdf"
      },
      "outputs": [
        {
          "data": {
            "text/plain": [
              "array([[0., 0., 0., ..., 0., 0., 1.],\n",
              "       [0., 0., 0., ..., 0., 0., 0.],\n",
              "       [1., 0., 0., ..., 0., 0., 0.],\n",
              "       ...,\n",
              "       [0., 0., 0., ..., 0., 0., 0.],\n",
              "       [0., 0., 1., ..., 0., 0., 0.],\n",
              "       [0., 1., 0., ..., 0., 0., 0.]], dtype=float32)"
            ]
          },
          "execution_count": 30,
          "metadata": {},
          "output_type": "execute_result"
        }
      ],
      "source": [
        "y_train"
      ]
    },
    {
      "cell_type": "markdown",
      "metadata": {
        "id": "WoEClVIbGbg4"
      },
      "source": [
        "MODEL"
      ]
    },
    {
      "cell_type": "code",
      "execution_count": 33,
      "metadata": {
        "id": "o19DfJRTAS5k"
      },
      "outputs": [],
      "source": [
        "from tensorflow.keras.models import Sequential\n",
        "from tensorflow.keras.layers import Dense, Conv2D, Flatten, AveragePooling2D, MaxPooling2D, Dropout, Input"
      ]
    },
    {
      "cell_type": "markdown",
      "metadata": {
        "id": "Fe0JRETXGRtN"
      },
      "source": [
        "LeNET-5 architecture"
      ]
    },
    {
      "cell_type": "code",
      "execution_count": 34,
      "metadata": {
        "id": "dX3DtjrdAiMb"
      },
      "outputs": [],
      "source": [
        "model = Sequential()\n",
        "\n",
        "model.add(Conv2D(6, kernel_size = (5,5), strides = (1,1), activation = 'tanh', input_shape = (28, 28, 1)))\n",
        "model.add(AveragePooling2D(pool_size = (2,2), strides = (1,1)))\n",
        "model.add(Conv2D(16, kernel_size = (5,5), strides = (1,1), activation = 'tanh'))\n",
        "model.add(AveragePooling2D(pool_size = (2,2), strides = (2,2)))\n",
        "model.add(Conv2D(120, kernel_size = (5,5), strides = (1,1), activation = 'tanh'))\n",
        "\n",
        "model.add(Flatten())\n",
        "model.add(Dense(84, activation = 'tanh'))\n",
        "model.add(Dense(num_labels, activation = 'softmax'))\n"
      ]
    },
    {
      "cell_type": "code",
      "execution_count": 35,
      "metadata": {
        "colab": {
          "base_uri": "https://localhost:8080/"
        },
        "id": "zCFFp7_xB7ya",
        "outputId": "8a474469-8704-438c-898f-378cd3447fa8"
      },
      "outputs": [
        {
          "name": "stdout",
          "output_type": "stream",
          "text": [
            "Model: \"sequential\"\n",
            "_________________________________________________________________\n",
            " Layer (type)                Output Shape              Param #   \n",
            "=================================================================\n",
            " conv2d (Conv2D)             (None, 24, 24, 6)         156       \n",
            "                                                                 \n",
            " average_pooling2d (Average  (None, 23, 23, 6)         0         \n",
            " Pooling2D)                                                      \n",
            "                                                                 \n",
            " conv2d_1 (Conv2D)           (None, 19, 19, 16)        2416      \n",
            "                                                                 \n",
            " average_pooling2d_1 (Avera  (None, 9, 9, 16)          0         \n",
            " gePooling2D)                                                    \n",
            "                                                                 \n",
            " conv2d_2 (Conv2D)           (None, 5, 5, 120)         48120     \n",
            "                                                                 \n",
            " flatten (Flatten)           (None, 3000)              0         \n",
            "                                                                 \n",
            " dense (Dense)               (None, 84)                252084    \n",
            "                                                                 \n",
            " dense_1 (Dense)             (None, 10)                850       \n",
            "                                                                 \n",
            "=================================================================\n",
            "Total params: 303626 (1.16 MB)\n",
            "Trainable params: 303626 (1.16 MB)\n",
            "Non-trainable params: 0 (0.00 Byte)\n",
            "_________________________________________________________________\n"
          ]
        }
      ],
      "source": [
        "model.summary()"
      ]
    },
    {
      "cell_type": "markdown",
      "metadata": {
        "id": "-6OoyDSXGi0j"
      },
      "source": [
        "TRAINING MODEL"
      ]
    },
    {
      "cell_type": "code",
      "execution_count": 38,
      "metadata": {
        "id": "Aps6puJLCCuD"
      },
      "outputs": [],
      "source": [
        "model.compile(loss = keras.losses.categorical_crossentropy, optimizer = 'adam', metrics = ['accuracy'])"
      ]
    },
    {
      "cell_type": "code",
      "execution_count": 40,
      "metadata": {
        "colab": {
          "base_uri": "https://localhost:8080/"
        },
        "id": "s4Uo7N2QC1Ke",
        "outputId": "1a4c99ca-cb83-473d-fd40-6e80b2f96305"
      },
      "outputs": [
        {
          "name": "stdout",
          "output_type": "stream",
          "text": [
            "Epoch 1/5\n",
            "1688/1688 [==============================] - 57s 34ms/step - loss: 0.0601 - accuracy: 0.9819 - val_loss: 0.0747 - val_accuracy: 0.9763\n",
            "Epoch 2/5\n",
            "1688/1688 [==============================] - 56s 33ms/step - loss: 0.0559 - accuracy: 0.9826 - val_loss: 0.0641 - val_accuracy: 0.9808\n",
            "Epoch 3/5\n",
            "1688/1688 [==============================] - 57s 34ms/step - loss: 0.0526 - accuracy: 0.9834 - val_loss: 0.0576 - val_accuracy: 0.9827\n",
            "Epoch 4/5\n",
            "1688/1688 [==============================] - 61s 36ms/step - loss: 0.0507 - accuracy: 0.9851 - val_loss: 0.0685 - val_accuracy: 0.9798\n",
            "Epoch 5/5\n",
            "1688/1688 [==============================] - 60s 36ms/step - loss: 0.0511 - accuracy: 0.9843 - val_loss: 0.0647 - val_accuracy: 0.9787\n"
          ]
        }
      ],
      "source": [
        "history = model.fit(x_train, y_train, batch_size = 32, epochs = 5, verbose = 1, validation_data = (x_val, y_val))"
      ]
    },
    {
      "cell_type": "markdown",
      "metadata": {
        "id": "furhMVuqGlnc"
      },
      "source": [
        "TESTING MODEL"
      ]
    },
    {
      "cell_type": "code",
      "execution_count": 41,
      "metadata": {
        "colab": {
          "base_uri": "https://localhost:8080/"
        },
        "id": "MjhgbhYrEHXm",
        "outputId": "639f6352-5ec7-4955-e6d2-c7b66f96675d"
      },
      "outputs": [
        {
          "name": "stdout",
          "output_type": "stream",
          "text": [
            "313/313 [==============================] - 3s 10ms/step - loss: 0.0568 - accuracy: 0.9827\n"
          ]
        }
      ],
      "source": [
        "score = model.evaluate(x_test, y_test, verbose = 1)"
      ]
    },
    {
      "cell_type": "code",
      "execution_count": 42,
      "metadata": {
        "colab": {
          "base_uri": "https://localhost:8080/"
        },
        "id": "nTGL6QqtFYSA",
        "outputId": "02465532-7dcd-41f5-c39c-667ef9befe9f"
      },
      "outputs": [
        {
          "data": {
            "text/plain": [
              "[0.05679267644882202, 0.982699990272522]"
            ]
          },
          "execution_count": 42,
          "metadata": {},
          "output_type": "execute_result"
        }
      ],
      "source": [
        "score"
      ]
    },
    {
      "cell_type": "code",
      "execution_count": null,
      "metadata": {
        "id": "LeOzedj5Fa_L"
      },
      "outputs": [],
      "source": []
    }
  ],
  "metadata": {
    "colab": {
      "authorship_tag": "ABX9TyOzgVnpWjebxWAQp7kk4wWZ",
      "include_colab_link": true,
      "provenance": []
    },
    "kernelspec": {
      "display_name": "Python 3",
      "name": "python3"
    },
    "language_info": {
      "name": "python"
    }
  },
  "nbformat": 4,
  "nbformat_minor": 0
}
